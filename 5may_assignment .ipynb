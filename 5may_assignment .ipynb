{
 "cells": [
  {
   "cell_type": "code",
   "execution_count": null,
   "id": "195ce735-76c0-4f57-b31e-048ba4dd7beb",
   "metadata": {},
   "outputs": [],
   "source": [
    "#question 1- How do you comment code in Python? What are the different types of comments?\n",
    "### we can use (#) (\"\"\" \"\"\") to comment code in python "
   ]
  },
  {
   "cell_type": "code",
   "execution_count": null,
   "id": "3a5b109c-113a-4267-9bda-fcc20064558d",
   "metadata": {},
   "outputs": [],
   "source": [
    "#question2 -What are variables in Python? How do you declare and assign values to variables?\n",
    "\"\"\"ans=A variable is a string of characters and numbers associated with a piece of information,we declare and assign value by using (=) \"\"\""
   ]
  },
  {
   "cell_type": "code",
   "execution_count": null,
   "id": "c7c60159-d55a-4084-96ea-b25b1cc9ac9d",
   "metadata": {},
   "outputs": [],
   "source": [
    "#  Q3=How do you convert one data type to another in Python?\n",
    "# answer- in python you can  convert one type of data to another, such as converting an integer to a string or a string to a float."
   ]
  },
  {
   "cell_type": "code",
   "execution_count": null,
   "id": "d4dacdf1-5078-4532-aa05-a4c3da1ccb77",
   "metadata": {},
   "outputs": [],
   "source": [
    "\n",
    "# Q4=How do you write and execute a Python script from the command line?\n"
   ]
  },
  {
   "cell_type": "code",
   "execution_count": null,
   "id": "8f88c260-06c2-4841-a789-af7a9ad927d4",
   "metadata": {},
   "outputs": [],
   "source": [
    "#Q5- Given a list my_list = [1, 2, 3, 4, 5], write the code to slice the list and obtain the sub-list [2, 3]."
   ]
  },
  {
   "cell_type": "code",
   "execution_count": null,
   "id": "2a338db8-55b1-4cb9-a461-2f607c59ebce",
   "metadata": {},
   "outputs": [],
   "source": [
    "my_list = [1,2,3,4,5]\n",
    "print(my_list[1:3])"
   ]
  },
  {
   "cell_type": "code",
   "execution_count": null,
   "id": "d117d932-b172-48b8-9215-d7ca04c5f03b",
   "metadata": {},
   "outputs": [],
   "source": [
    "#Q6. What is a complex number in mathematics, and how is it represented in Python?\n",
    "\"\"\"Ans= A comple number is a set of real and imaginary number and in python it is denoted by j\n",
    "like (5+8j)\"\"\""
   ]
  },
  {
   "cell_type": "code",
   "execution_count": null,
   "id": "344b159d-07ee-4036-a684-e6ebd5d391b7",
   "metadata": {},
   "outputs": [],
   "source": [
    "#Q6. What is a complex number in mathematics, and how is it represented in Python?"
   ]
  },
  {
   "cell_type": "code",
   "execution_count": null,
   "id": "cad6bc7a-6cc8-4558-993c-d67ec8d7e876",
   "metadata": {},
   "outputs": [],
   "source": [
    "#Q8. Declare a variable named price and assign the value 9.99 to it. What data type does this variablebelong to?"
   ]
  },
  {
   "cell_type": "code",
   "execution_count": null,
   "id": "6b41424e-bdbe-4e96-aa88-f9345fcd4244",
   "metadata": {},
   "outputs": [],
   "source": [
    "price= 9.99"
   ]
  },
  {
   "cell_type": "code",
   "execution_count": null,
   "id": "ccafc538-cdda-4fba-9c1b-f76d9218258b",
   "metadata": {},
   "outputs": [],
   "source": [
    "type(price)"
   ]
  },
  {
   "cell_type": "code",
   "execution_count": null,
   "id": "1fb6b3f1-e40d-43a8-b7db-e0eca74e2873",
   "metadata": {},
   "outputs": [],
   "source": [
    "#Q9. Create a variable named name and assign your full name to it as a string. How would you print the value of this variable?"
   ]
  },
  {
   "cell_type": "code",
   "execution_count": null,
   "id": "5abdea32-081f-4325-9b2b-e731769c5bd5",
   "metadata": {},
   "outputs": [],
   "source": [
    "myName= \"harshvardhan singh\"\n",
    "\n"
   ]
  },
  {
   "cell_type": "code",
   "execution_count": 15,
   "id": "07d2c4f7-0151-4f9d-b73a-ee48a37a60ca",
   "metadata": {},
   "outputs": [
    {
     "name": "stdout",
     "output_type": "stream",
     "text": [
      "harshvardhan singh\n"
     ]
    }
   ],
   "source": [
    "print( myName)"
   ]
  },
  {
   "cell_type": "code",
   "execution_count": null,
   "id": "d01f432e-aaf4-461b-b0bb-75eef1be5461",
   "metadata": {},
   "outputs": [],
   "source": [
    "#Q10. Given the string \"Hello, World!\", extract the substring \"World\"."
   ]
  },
  {
   "cell_type": "code",
   "execution_count": 16,
   "id": "8df21053-3692-4ca3-bfd7-10b3ff9124e0",
   "metadata": {},
   "outputs": [],
   "source": [
    "k=\"hello,world!\""
   ]
  },
  {
   "cell_type": "code",
   "execution_count": null,
   "id": "1813bae9-2e85-44b4-b7d6-ba2785cbf2dc",
   "metadata": {},
   "outputs": [],
   "source": []
  },
  {
   "cell_type": "code",
   "execution_count": 19,
   "id": "9762ce7d-7317-4fcf-a32b-c5e7ffc6f41d",
   "metadata": {},
   "outputs": [],
   "source": [
    "#Q11. Create a variable named \"is_student\" and assign it a boolean value indicating whether you are currently a student or not."
   ]
  },
  {
   "cell_type": "code",
   "execution_count": 20,
   "id": "70284704-d035-453b-bf87-9d713d1aaf7a",
   "metadata": {},
   "outputs": [
    {
     "name": "stdout",
     "output_type": "stream",
     "text": [
      "True\n"
     ]
    }
   ],
   "source": [
    "is_student=True\n",
    "print(is_student)"
   ]
  },
  {
   "cell_type": "code",
   "execution_count": null,
   "id": "f661e340-2c6e-4a7f-adf7-1fd0c853f5f6",
   "metadata": {},
   "outputs": [],
   "source": []
  }
 ],
 "metadata": {
  "kernelspec": {
   "display_name": "Python 3 (ipykernel)",
   "language": "python",
   "name": "python3"
  },
  "language_info": {
   "codemirror_mode": {
    "name": "ipython",
    "version": 3
   },
   "file_extension": ".py",
   "mimetype": "text/x-python",
   "name": "python",
   "nbconvert_exporter": "python",
   "pygments_lexer": "ipython3",
   "version": "3.10.8"
  }
 },
 "nbformat": 4,
 "nbformat_minor": 5
}
