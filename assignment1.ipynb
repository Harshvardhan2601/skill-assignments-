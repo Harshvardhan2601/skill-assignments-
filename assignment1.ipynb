{
 "cells": [
  {
   "cell_type": "code",
   "execution_count": 1,
   "id": "da7f913b-9574-47c9-8924-cb1651399885",
   "metadata": {},
   "outputs": [],
   "source": [
    "#question 1 "
   ]
  },
  {
   "cell_type": "code",
   "execution_count": 2,
   "id": "a6900f7f-d5ed-47ae-b012-6deaf96aa4a1",
   "metadata": {},
   "outputs": [],
   "source": [
    "a= \"kunal\""
   ]
  },
  {
   "cell_type": "code",
   "execution_count": 3,
   "id": "3cab64c6-a31c-4cf0-8860-90e633846637",
   "metadata": {},
   "outputs": [
    {
     "data": {
      "text/plain": [
       "str"
      ]
     },
     "execution_count": 3,
     "metadata": {},
     "output_type": "execute_result"
    }
   ],
   "source": [
    "type(\"a\")"
   ]
  },
  {
   "cell_type": "code",
   "execution_count": 4,
   "id": "e66ef6c2-3cd7-4f96-bc98-761784aac862",
   "metadata": {},
   "outputs": [],
   "source": [
    "b=[1,2,3,4,5,6]"
   ]
  },
  {
   "cell_type": "code",
   "execution_count": 5,
   "id": "23e30e00-6ca0-4f87-b5e6-6da0841319ac",
   "metadata": {},
   "outputs": [
    {
     "data": {
      "text/plain": [
       "list"
      ]
     },
     "execution_count": 5,
     "metadata": {},
     "output_type": "execute_result"
    }
   ],
   "source": [
    "type(b)"
   ]
  },
  {
   "cell_type": "code",
   "execution_count": 6,
   "id": "7d8c0ab5-5893-4a9d-8c78-2c7edf925861",
   "metadata": {},
   "outputs": [],
   "source": [
    "aa=335.25"
   ]
  },
  {
   "cell_type": "code",
   "execution_count": 7,
   "id": "3f941349-8a20-4943-84b4-8fb4a6fa8623",
   "metadata": {},
   "outputs": [
    {
     "data": {
      "text/plain": [
       "float"
      ]
     },
     "execution_count": 7,
     "metadata": {},
     "output_type": "execute_result"
    }
   ],
   "source": [
    "type(aa)"
   ]
  },
  {
   "cell_type": "code",
   "execution_count": 8,
   "id": "99c8e81f-0fdc-4b68-ac26-ed111970ef59",
   "metadata": {},
   "outputs": [],
   "source": [
    "bb=(1,2,3,4,\"kuna\",True,\"5+5j\")"
   ]
  },
  {
   "cell_type": "code",
   "execution_count": 9,
   "id": "c86ec792-9318-480a-bea8-fe191977126f",
   "metadata": {},
   "outputs": [
    {
     "data": {
      "text/plain": [
       "tuple"
      ]
     },
     "execution_count": 9,
     "metadata": {},
     "output_type": "execute_result"
    }
   ],
   "source": [
    "type(bb)"
   ]
  },
  {
   "cell_type": "code",
   "execution_count": 10,
   "id": "fbee6496-9b82-45d0-a325-7c18569db0b9",
   "metadata": {},
   "outputs": [],
   "source": [
    "#question 2"
   ]
  },
  {
   "cell_type": "code",
   "execution_count": 11,
   "id": "93429619-1580-46ff-bf82-c178efef4e99",
   "metadata": {},
   "outputs": [
    {
     "data": {
      "text/plain": [
       "'\\n(1)var1=\"\" - str\\n(ii) var2=[ds,ml,python] - str\\n(iii) var3= [\\'ds\\',\\'ml\\',\\'python\\'] - list\\n(iv) var4 =1 - int\\n'"
      ]
     },
     "execution_count": 11,
     "metadata": {},
     "output_type": "execute_result"
    }
   ],
   "source": [
    "\n",
    "\"\"\"\n",
    "(1)var1=\"\" - str\n",
    "(ii) var2=[ds,ml,python] - str\n",
    "(iii) var3= ['ds','ml','python'] - list\n",
    "(iv) var4 =1 - int\n",
    "\"\"\"\n"
   ]
  },
  {
   "cell_type": "code",
   "execution_count": 12,
   "id": "111b5b34-6df6-434a-ae13-a66fb2b6ff25",
   "metadata": {},
   "outputs": [],
   "source": [
    "# question 3"
   ]
  },
  {
   "cell_type": "code",
   "execution_count": 13,
   "id": "a50d5958-9ce3-48a7-88aa-4064672488f5",
   "metadata": {},
   "outputs": [
    {
     "name": "stdout",
     "output_type": "stream",
     "text": [
      "10.0\n"
     ]
    }
   ],
   "source": [
    "#(i) - / - use for divide eample\n",
    "a=30\n",
    "b=3\n",
    "print(a/b)"
   ]
  },
  {
   "cell_type": "code",
   "execution_count": 14,
   "id": "eb38a2a4-e181-4d30-9354-d91532dc376b",
   "metadata": {},
   "outputs": [
    {
     "name": "stdout",
     "output_type": "stream",
     "text": [
      "0\n"
     ]
    }
   ],
   "source": [
    "#(ii) - % - use for modulus eample\n",
    "a=50\n",
    "b=5\n",
    "print(a%b)"
   ]
  },
  {
   "cell_type": "code",
   "execution_count": 15,
   "id": "7638f242-5f8a-41cb-b7de-e15f036d1500",
   "metadata": {},
   "outputs": [
    {
     "name": "stdout",
     "output_type": "stream",
     "text": [
      "0\n"
     ]
    }
   ],
   "source": [
    "#(iii) //-- this is the floor division operator\n",
    "a= 500\n",
    "b=6655\n",
    "print(a//b)"
   ]
  },
  {
   "cell_type": "code",
   "execution_count": 16,
   "id": "fd2825ca-5b67-43a9-9c5d-2fe9e0f265aa",
   "metadata": {},
   "outputs": [
    {
     "name": "stdout",
     "output_type": "stream",
     "text": [
      "18509341885165575632687489704402239017170156129315974900115354527745696977600275023033083702693548864117226421438464384082731972392217747461896953531869352740640798705044413654695983295116874979808104908567357426314542932622917326346735603283090166094564790831012097809959284795677800429979582021892958066107806500960763032349683923549550906636780615587251623828498399765846869661600041324729304836869654138359601644375435993144804035783290586919682081232499055105583948576262384395649904479265577757411398401210853996427144788505764215660989303462677711758646441478303075173946025021934885440726412942376809005056\n"
     ]
    }
   ],
   "source": [
    "#(iv)- ** -- use for multiply\n",
    "a=54\n",
    "b=354\n",
    "print(a**b)"
   ]
  },
  {
   "cell_type": "code",
   "execution_count": 17,
   "id": "11b7b47e-ab75-47d8-9751-7392fd8eef34",
   "metadata": {},
   "outputs": [],
   "source": [
    "# question 4 \n",
    "a=[21,54,67,0.5,386510,\"hello\",\"hiii \",\"yess\",True,5+7j,\"jkjkjk\"]"
   ]
  },
  {
   "cell_type": "code",
   "execution_count": 18,
   "id": "34a182bb-6665-4e57-99ec-c1a8bcb8afc4",
   "metadata": {},
   "outputs": [
    {
     "name": "stdout",
     "output_type": "stream",
     "text": [
      "21\n",
      "54\n",
      "67\n",
      "0.5\n",
      "386510\n",
      "hello\n",
      "hiii \n",
      "yess\n",
      "True\n",
      "(5+7j)\n",
      "jkjkjk\n"
     ]
    }
   ],
   "source": [
    "\n",
    "for i in a:\n",
    "    print(i)\n",
    "    \n",
    "    "
   ]
  },
  {
   "cell_type": "code",
   "execution_count": 24,
   "id": "a99ea3c2-b0c3-4bd3-871c-921b4018ca39",
   "metadata": {},
   "outputs": [
    {
     "name": "stdout",
     "output_type": "stream",
     "text": [
      "<class 'int'>\n",
      "<class 'int'>\n",
      "<class 'int'>\n",
      "<class 'float'>\n",
      "<class 'int'>\n",
      "<class 'str'>\n",
      "<class 'str'>\n",
      "<class 'str'>\n",
      "<class 'bool'>\n",
      "<class 'complex'>\n",
      "<class 'str'>\n"
     ]
    }
   ],
   "source": [
    "l=[]\n",
    "for i in a:\n",
    "    print(type(i))    "
   ]
  },
  {
   "cell_type": "code",
   "execution_count": null,
   "id": "dcf15b51-f194-4c2f-8e9d-dd5ef45638ac",
   "metadata": {},
   "outputs": [],
   "source": [
    "##Q6. Create a list containing 25 int type data. Using for loop and if-else condition print if the element is divisible by 3 or not."
   ]
  },
  {
   "cell_type": "code",
   "execution_count": 44,
   "id": "72ec0724-b2ca-4b03-b38b-8f80edb95df6",
   "metadata": {},
   "outputs": [],
   "source": [
    "a=[1,2,3,4,5,6,78,8,9,11,12,33,4,45,66,54,658,548,544848,454,81,45,4,5442,5456]\n"
   ]
  },
  {
   "cell_type": "code",
   "execution_count": 45,
   "id": "b1f0770a-a7ff-4a09-8456-b84fd0073d06",
   "metadata": {},
   "outputs": [],
   "source": [
    "a.sort()"
   ]
  },
  {
   "cell_type": "code",
   "execution_count": 46,
   "id": "e69e35ab-0655-4e27-8ee2-73dadc267f24",
   "metadata": {},
   "outputs": [
    {
     "data": {
      "text/plain": [
       "[1,\n",
       " 2,\n",
       " 3,\n",
       " 4,\n",
       " 4,\n",
       " 4,\n",
       " 5,\n",
       " 6,\n",
       " 8,\n",
       " 9,\n",
       " 11,\n",
       " 12,\n",
       " 33,\n",
       " 45,\n",
       " 45,\n",
       " 54,\n",
       " 66,\n",
       " 78,\n",
       " 81,\n",
       " 454,\n",
       " 548,\n",
       " 658,\n",
       " 5442,\n",
       " 5456,\n",
       " 544848]"
      ]
     },
     "execution_count": 46,
     "metadata": {},
     "output_type": "execute_result"
    }
   ],
   "source": [
    "a"
   ]
  },
  {
   "cell_type": "code",
   "execution_count": 47,
   "id": "57eb79f7-c30f-4d6b-a6be-d6572e7c48d4",
   "metadata": {},
   "outputs": [
    {
     "data": {
      "text/plain": [
       "25"
      ]
     },
     "execution_count": 47,
     "metadata": {},
     "output_type": "execute_result"
    }
   ],
   "source": [
    "len(a)"
   ]
  },
  {
   "cell_type": "code",
   "execution_count": 52,
   "id": "9c18b868-863c-4aea-8c26-cf3b7e8af858",
   "metadata": {},
   "outputs": [
    {
     "name": "stdout",
     "output_type": "stream",
     "text": [
      "3\n",
      "6\n",
      "9\n",
      "12\n",
      "33\n",
      "45\n",
      "45\n",
      "54\n",
      "66\n",
      "78\n",
      "81\n",
      "5442\n",
      "544848\n"
     ]
    }
   ],
   "source": [
    "for i in a :\n",
    "    if (i%3==0): print(i)"
   ]
  },
  {
   "cell_type": "code",
   "execution_count": 53,
   "id": "73bb2421-9d16-4b83-ae61-68b70af32673",
   "metadata": {},
   "outputs": [],
   "source": [
    "#question 7"
   ]
  },
  {
   "cell_type": "code",
   "execution_count": 54,
   "id": "24d461ca-af0c-4bf2-bca1-fb8c229484fd",
   "metadata": {},
   "outputs": [
    {
     "data": {
      "text/plain": [
       "'Mutable Objects                                      \\n-A mutable object can be changed after it is created\\t\\nExamples : List, Set, Dictionary\\nimmutable object :\\n- a immutable object cannot be changed after itis created\\nExamples : tuples, int,float.'"
      ]
     },
     "execution_count": 54,
     "metadata": {},
     "output_type": "execute_result"
    }
   ],
   "source": [
    "\"\"\"Mutable Objects                                      \n",
    "-A mutable object can be changed after it is created\t\n",
    "Examples : List, Set, Dictionary\n",
    "immutable object :\n",
    "- a immutable object cannot be changed after itis created\n",
    "Examples : tuples, int,float.\"\"\""
   ]
  },
  {
   "cell_type": "code",
   "execution_count": null,
   "id": "458d8e32-f9b9-4f72-8cc6-78b265d986ef",
   "metadata": {},
   "outputs": [],
   "source": []
  }
 ],
 "metadata": {
  "kernelspec": {
   "display_name": "Python 3 (ipykernel)",
   "language": "python",
   "name": "python3"
  },
  "language_info": {
   "codemirror_mode": {
    "name": "ipython",
    "version": 3
   },
   "file_extension": ".py",
   "mimetype": "text/x-python",
   "name": "python",
   "nbconvert_exporter": "python",
   "pygments_lexer": "ipython3",
   "version": "3.10.8"
  }
 },
 "nbformat": 4,
 "nbformat_minor": 5
}
